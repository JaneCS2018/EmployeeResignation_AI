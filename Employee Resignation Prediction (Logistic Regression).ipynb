{
 "cells": [
  {
   "cell_type": "code",
   "execution_count": 1,
   "metadata": {},
   "outputs": [],
   "source": [
    "import numpy as np\n",
    "import pandas as pd\n",
    "from patsy import dmatrices ##可根据离散变量生成哑变量\n",
    "from sklearn.linear_model import LogisticRegression\n",
    "from sklearn.model_selection import train_test_split, cross_val_score\n",
    "from sklearn import metrics\n",
    "import matplotlib.pyplot as plt"
   ]
  },
  {
   "cell_type": "code",
   "execution_count": 2,
   "metadata": {},
   "outputs": [
    {
     "data": {
      "text/html": [
       "<div>\n",
       "<style scoped>\n",
       "    .dataframe tbody tr th:only-of-type {\n",
       "        vertical-align: middle;\n",
       "    }\n",
       "\n",
       "    .dataframe tbody tr th {\n",
       "        vertical-align: top;\n",
       "    }\n",
       "\n",
       "    .dataframe thead th {\n",
       "        text-align: right;\n",
       "    }\n",
       "</style>\n",
       "<table border=\"1\" class=\"dataframe\">\n",
       "  <thead>\n",
       "    <tr style=\"text-align: right;\">\n",
       "      <th></th>\n",
       "      <th>satisfaction_level</th>\n",
       "      <th>last_evaluation</th>\n",
       "      <th>number_project</th>\n",
       "      <th>average_montly_hours</th>\n",
       "      <th>time_spend_company</th>\n",
       "      <th>Work_accident</th>\n",
       "      <th>left</th>\n",
       "      <th>promotion_last_5years</th>\n",
       "      <th>sales</th>\n",
       "      <th>salary</th>\n",
       "    </tr>\n",
       "  </thead>\n",
       "  <tbody>\n",
       "    <tr>\n",
       "      <th>0</th>\n",
       "      <td>0.38</td>\n",
       "      <td>0.53</td>\n",
       "      <td>2</td>\n",
       "      <td>157</td>\n",
       "      <td>3</td>\n",
       "      <td>0</td>\n",
       "      <td>1</td>\n",
       "      <td>0</td>\n",
       "      <td>sales</td>\n",
       "      <td>low</td>\n",
       "    </tr>\n",
       "    <tr>\n",
       "      <th>1</th>\n",
       "      <td>0.80</td>\n",
       "      <td>0.86</td>\n",
       "      <td>5</td>\n",
       "      <td>262</td>\n",
       "      <td>6</td>\n",
       "      <td>0</td>\n",
       "      <td>1</td>\n",
       "      <td>0</td>\n",
       "      <td>sales</td>\n",
       "      <td>medium</td>\n",
       "    </tr>\n",
       "    <tr>\n",
       "      <th>2</th>\n",
       "      <td>0.11</td>\n",
       "      <td>0.88</td>\n",
       "      <td>7</td>\n",
       "      <td>272</td>\n",
       "      <td>4</td>\n",
       "      <td>0</td>\n",
       "      <td>1</td>\n",
       "      <td>0</td>\n",
       "      <td>sales</td>\n",
       "      <td>medium</td>\n",
       "    </tr>\n",
       "    <tr>\n",
       "      <th>3</th>\n",
       "      <td>0.72</td>\n",
       "      <td>0.87</td>\n",
       "      <td>5</td>\n",
       "      <td>223</td>\n",
       "      <td>5</td>\n",
       "      <td>0</td>\n",
       "      <td>1</td>\n",
       "      <td>0</td>\n",
       "      <td>sales</td>\n",
       "      <td>low</td>\n",
       "    </tr>\n",
       "    <tr>\n",
       "      <th>4</th>\n",
       "      <td>0.37</td>\n",
       "      <td>0.52</td>\n",
       "      <td>2</td>\n",
       "      <td>159</td>\n",
       "      <td>3</td>\n",
       "      <td>0</td>\n",
       "      <td>1</td>\n",
       "      <td>0</td>\n",
       "      <td>sales</td>\n",
       "      <td>low</td>\n",
       "    </tr>\n",
       "    <tr>\n",
       "      <th>5</th>\n",
       "      <td>0.41</td>\n",
       "      <td>0.50</td>\n",
       "      <td>2</td>\n",
       "      <td>153</td>\n",
       "      <td>3</td>\n",
       "      <td>0</td>\n",
       "      <td>1</td>\n",
       "      <td>0</td>\n",
       "      <td>sales</td>\n",
       "      <td>low</td>\n",
       "    </tr>\n",
       "    <tr>\n",
       "      <th>6</th>\n",
       "      <td>0.10</td>\n",
       "      <td>0.77</td>\n",
       "      <td>6</td>\n",
       "      <td>247</td>\n",
       "      <td>4</td>\n",
       "      <td>0</td>\n",
       "      <td>1</td>\n",
       "      <td>0</td>\n",
       "      <td>sales</td>\n",
       "      <td>low</td>\n",
       "    </tr>\n",
       "    <tr>\n",
       "      <th>7</th>\n",
       "      <td>0.92</td>\n",
       "      <td>0.85</td>\n",
       "      <td>5</td>\n",
       "      <td>259</td>\n",
       "      <td>5</td>\n",
       "      <td>0</td>\n",
       "      <td>1</td>\n",
       "      <td>0</td>\n",
       "      <td>sales</td>\n",
       "      <td>low</td>\n",
       "    </tr>\n",
       "    <tr>\n",
       "      <th>8</th>\n",
       "      <td>0.89</td>\n",
       "      <td>1.00</td>\n",
       "      <td>5</td>\n",
       "      <td>224</td>\n",
       "      <td>5</td>\n",
       "      <td>0</td>\n",
       "      <td>1</td>\n",
       "      <td>0</td>\n",
       "      <td>sales</td>\n",
       "      <td>low</td>\n",
       "    </tr>\n",
       "    <tr>\n",
       "      <th>9</th>\n",
       "      <td>0.42</td>\n",
       "      <td>0.53</td>\n",
       "      <td>2</td>\n",
       "      <td>142</td>\n",
       "      <td>3</td>\n",
       "      <td>0</td>\n",
       "      <td>1</td>\n",
       "      <td>0</td>\n",
       "      <td>sales</td>\n",
       "      <td>low</td>\n",
       "    </tr>\n",
       "  </tbody>\n",
       "</table>\n",
       "</div>"
      ],
      "text/plain": [
       "   satisfaction_level  last_evaluation  number_project  average_montly_hours  \\\n",
       "0                0.38             0.53               2                   157   \n",
       "1                0.80             0.86               5                   262   \n",
       "2                0.11             0.88               7                   272   \n",
       "3                0.72             0.87               5                   223   \n",
       "4                0.37             0.52               2                   159   \n",
       "5                0.41             0.50               2                   153   \n",
       "6                0.10             0.77               6                   247   \n",
       "7                0.92             0.85               5                   259   \n",
       "8                0.89             1.00               5                   224   \n",
       "9                0.42             0.53               2                   142   \n",
       "\n",
       "   time_spend_company  Work_accident  left  promotion_last_5years  sales  \\\n",
       "0                   3              0     1                      0  sales   \n",
       "1                   6              0     1                      0  sales   \n",
       "2                   4              0     1                      0  sales   \n",
       "3                   5              0     1                      0  sales   \n",
       "4                   3              0     1                      0  sales   \n",
       "5                   3              0     1                      0  sales   \n",
       "6                   4              0     1                      0  sales   \n",
       "7                   5              0     1                      0  sales   \n",
       "8                   5              0     1                      0  sales   \n",
       "9                   3              0     1                      0  sales   \n",
       "\n",
       "   salary  \n",
       "0     low  \n",
       "1  medium  \n",
       "2  medium  \n",
       "3     low  \n",
       "4     low  \n",
       "5     low  \n",
       "6     low  \n",
       "7     low  \n",
       "8     low  \n",
       "9     low  "
      ]
     },
     "execution_count": 2,
     "metadata": {},
     "output_type": "execute_result"
    }
   ],
   "source": [
    "df = pd.read_csv('./data/HR_comma_sep.csv')\n",
    "df.head(10)"
   ]
  },
  {
   "cell_type": "code",
   "execution_count": 3,
   "metadata": {},
   "outputs": [
    {
     "name": "stdout",
     "output_type": "stream",
     "text": [
      "<class 'pandas.core.frame.DataFrame'>\n",
      "RangeIndex: 14999 entries, 0 to 14998\n",
      "Data columns (total 10 columns):\n",
      "satisfaction_level       14999 non-null float64\n",
      "last_evaluation          14999 non-null float64\n",
      "number_project           14999 non-null int64\n",
      "average_montly_hours     14999 non-null int64\n",
      "time_spend_company       14999 non-null int64\n",
      "Work_accident            14999 non-null int64\n",
      "left                     14999 non-null int64\n",
      "promotion_last_5years    14999 non-null int64\n",
      "sales                    14999 non-null object\n",
      "salary                   14999 non-null object\n",
      "dtypes: float64(2), int64(6), object(2)\n",
      "memory usage: 1.1+ MB\n"
     ]
    }
   ],
   "source": [
    "df.info()"
   ]
  },
  {
   "cell_type": "code",
   "execution_count": 4,
   "metadata": {},
   "outputs": [
    {
     "data": {
      "text/plain": [
       "sales          4140\n",
       "technical      2720\n",
       "support        2229\n",
       "IT             1227\n",
       "product_mng     902\n",
       "marketing       858\n",
       "RandD           787\n",
       "accounting      767\n",
       "hr              739\n",
       "management      630\n",
       "Name: sales, dtype: int64"
      ]
     },
     "execution_count": 4,
     "metadata": {},
     "output_type": "execute_result"
    }
   ],
   "source": [
    "## count sales categories\n",
    "df['sales'].value_counts()"
   ]
  },
  {
   "cell_type": "code",
   "execution_count": 5,
   "metadata": {},
   "outputs": [
    {
     "data": {
      "text/plain": [
       "low       7316\n",
       "medium    6446\n",
       "high      1237\n",
       "Name: salary, dtype: int64"
      ]
     },
     "execution_count": 5,
     "metadata": {},
     "output_type": "execute_result"
    }
   ],
   "source": [
    "## count salary categories\n",
    "df['salary'].value_counts()"
   ]
  },
  {
   "cell_type": "code",
   "execution_count": 6,
   "metadata": {},
   "outputs": [],
   "source": [
    "df.left = df.left.astype(int) ## ?"
   ]
  },
  {
   "cell_type": "code",
   "execution_count": 7,
   "metadata": {},
   "outputs": [
    {
     "data": {
      "text/plain": [
       "satisfaction_level       float64\n",
       "last_evaluation          float64\n",
       "number_project             int64\n",
       "average_montly_hours       int64\n",
       "time_spend_company         int64\n",
       "Work_accident              int64\n",
       "left                       int64\n",
       "promotion_last_5years      int64\n",
       "sales                     object\n",
       "salary                    object\n",
       "dtype: object"
      ]
     },
     "execution_count": 7,
     "metadata": {},
     "output_type": "execute_result"
    }
   ],
   "source": [
    "df.dtypes"
   ]
  },
  {
   "cell_type": "code",
   "execution_count": 8,
   "metadata": {},
   "outputs": [
    {
     "data": {
      "text/plain": [
       "<matplotlib.axes._subplots.AxesSubplot at 0x121661780>"
      ]
     },
     "execution_count": 8,
     "metadata": {},
     "output_type": "execute_result"
    },
    {
     "data": {
      "image/png": "[encoded data removed]",
      "text/plain": [
       "<Figure size 432x288 with 1 Axes>"
      ]
     },
     "metadata": {
      "needs_background": "light"
     },
     "output_type": "display_data"
    }
   ],
   "source": [
    "#观察离职人数与工资分布的关系\n",
    "pd.crosstab(df.salary, df.left).plot(kind='bar')"
   ]
  },
  {
   "cell_type": "code",
   "execution_count": 9,
   "metadata": {},
   "outputs": [
    {
     "name": "stdout",
     "output_type": "stream",
     "text": [
      "left       0     1\n",
      "salary            \n",
      "high    1155    82\n",
      "low     5144  2172\n",
      "medium  5129  1317\n"
     ]
    }
   ],
   "source": [
    "#观察离职比例与工资分布的关系\n",
    "q = pd.crosstab(df.salary, df.left)\n",
    "print(q)"
   ]
  },
  {
   "cell_type": "code",
   "execution_count": 10,
   "metadata": {},
   "outputs": [
    {
     "name": "stdout",
     "output_type": "stream",
     "text": [
      "salary\n",
      "high      1237\n",
      "low       7316\n",
      "medium    6446\n",
      "dtype: int64\n"
     ]
    }
   ],
   "source": [
    "print(q.sum(1))"
   ]
  },
  {
   "cell_type": "code",
   "execution_count": 11,
   "metadata": {
    "scrolled": true
   },
   "outputs": [
    {
     "data": {
      "image/png": "[encoded data removed]",
      "text/plain": [
       "<Figure size 432x288 with 1 Axes>"
      ]
     },
     "metadata": {
      "needs_background": "light"
     },
     "output_type": "display_data"
    }
   ],
   "source": [
    "##0 don't want to leave, 1 wants to leave\n",
    "q.div(q.sum(1), axis=0).plot(kind='bar', stacked='True')\n",
    "plt.show()"
   ]
  },
  {
   "cell_type": "code",
   "execution_count": 12,
   "metadata": {},
   "outputs": [
    {
     "data": {
      "image/png": "[encoded data removed]",
      "text/plain": [
       "<Figure size 432x288 with 1 Axes>"
      ]
     },
     "metadata": {
      "needs_background": "light"
     },
     "output_type": "display_data"
    }
   ],
   "source": [
    "#观察员工满意度的分布图(histogram)， left为0的时候满意度分布\n",
    "df[df.left==0].satisfaction_level.hist()\n",
    "plt.show()"
   ]
  },
  {
   "cell_type": "code",
   "execution_count": 13,
   "metadata": {},
   "outputs": [
    {
     "data": {
      "text/plain": [
       "<matplotlib.axes._subplots.AxesSubplot at 0x12194fa20>"
      ]
     },
     "execution_count": 13,
     "metadata": {},
     "output_type": "execute_result"
    },
    {
     "data": {
      "image/png": "[encoded data removed]",
      "text/plain": [
       "<Figure size 432x288 with 1 Axes>"
      ]
     },
     "metadata": {
      "needs_background": "light"
     },
     "output_type": "display_data"
    }
   ],
   "source": [
    "#left为1的时候满意度分布\n",
    "df[df.left==1].satisfaction_level.hist()"
   ]
  },
  {
   "cell_type": "code",
   "execution_count": 14,
   "metadata": {},
   "outputs": [],
   "source": [
    "#dmatrices将数据中的离散变量变成哑变量，并指明用satisfaction_level, last_evaluation, ... 来预测left\n",
    "model= LogisticRegression()\n",
    "## y is left value, awesome!!!\n",
    "y,X=dmatrices('left~satisfaction_level+last_evaluation+number_project+average_montly_hours+time_spend_company+Work_accident+promotion_last_5years+C(sales)+C(salary)', df, return_type='dataframe')"
   ]
  },
  {
   "cell_type": "code",
   "execution_count": 15,
   "metadata": {},
   "outputs": [],
   "source": [
    "##把IT和salary--high吸入进去\n",
    "X=X.rename(columns={\n",
    "   'C(sales)[T.RandD]':'Department : Random',\n",
    "   'C(sales)[T.accounting]':'Department : Accounting',\n",
    "   'C(sales)[T.hr]':'Department : HR',\n",
    "   'C(sales)[T.management]':'Department : Management',\n",
    "   'C(sales)[T.marketing]':'Department : Marketing',\n",
    "   'C(sales)[T.product_mng]':'Department : product_management',\n",
    "   'C(sales)[T.sales]':'Department : Sales',\n",
    "   'C(sales)[T.support]':'Department : Support',\n",
    "   'C(sales)[T.technical]':'Department : Technical',\n",
    "   'C(salary)[T.low]':'Salary : Low',\n",
    "   'C(salary)[T.medium]':'Salary : Medium'\n",
    "})\n",
    "y = np.ravel(y)"
   ]
  },
  {
   "cell_type": "code",
   "execution_count": 16,
   "metadata": {},
   "outputs": [
    {
     "name": "stdout",
     "output_type": "stream",
     "text": [
      "[1. 1. 1. ... 1. 1. 1.]\n"
     ]
    }
   ],
   "source": [
    "print(y)"
   ]
  },
  {
   "cell_type": "code",
   "execution_count": 17,
   "metadata": {},
   "outputs": [
    {
     "name": "stdout",
     "output_type": "stream",
     "text": [
      "       Intercept  Department : Random  Department : Accounting  \\\n",
      "0            1.0                  0.0                      0.0   \n",
      "1            1.0                  0.0                      0.0   \n",
      "2            1.0                  0.0                      0.0   \n",
      "3            1.0                  0.0                      0.0   \n",
      "4            1.0                  0.0                      0.0   \n",
      "5            1.0                  0.0                      0.0   \n",
      "6            1.0                  0.0                      0.0   \n",
      "7            1.0                  0.0                      0.0   \n",
      "8            1.0                  0.0                      0.0   \n",
      "9            1.0                  0.0                      0.0   \n",
      "10           1.0                  0.0                      0.0   \n",
      "11           1.0                  0.0                      0.0   \n",
      "12           1.0                  0.0                      0.0   \n",
      "13           1.0                  0.0                      0.0   \n",
      "14           1.0                  0.0                      0.0   \n",
      "15           1.0                  0.0                      0.0   \n",
      "16           1.0                  0.0                      0.0   \n",
      "17           1.0                  0.0                      0.0   \n",
      "18           1.0                  0.0                      0.0   \n",
      "19           1.0                  0.0                      0.0   \n",
      "20           1.0                  0.0                      0.0   \n",
      "21           1.0                  0.0                      0.0   \n",
      "22           1.0                  0.0                      0.0   \n",
      "23           1.0                  0.0                      0.0   \n",
      "24           1.0                  0.0                      0.0   \n",
      "25           1.0                  0.0                      0.0   \n",
      "26           1.0                  0.0                      0.0   \n",
      "27           1.0                  0.0                      0.0   \n",
      "28           1.0                  0.0                      1.0   \n",
      "29           1.0                  0.0                      1.0   \n",
      "...          ...                  ...                      ...   \n",
      "14969        1.0                  0.0                      0.0   \n",
      "14970        1.0                  0.0                      0.0   \n",
      "14971        1.0                  0.0                      0.0   \n",
      "14972        1.0                  0.0                      1.0   \n",
      "14973        1.0                  0.0                      1.0   \n",
      "14974        1.0                  0.0                      1.0   \n",
      "14975        1.0                  0.0                      0.0   \n",
      "14976        1.0                  0.0                      0.0   \n",
      "14977        1.0                  0.0                      0.0   \n",
      "14978        1.0                  0.0                      0.0   \n",
      "14979        1.0                  0.0                      0.0   \n",
      "14980        1.0                  0.0                      0.0   \n",
      "14981        1.0                  0.0                      0.0   \n",
      "14982        1.0                  0.0                      0.0   \n",
      "14983        1.0                  0.0                      0.0   \n",
      "14984        1.0                  0.0                      0.0   \n",
      "14985        1.0                  0.0                      0.0   \n",
      "14986        1.0                  0.0                      0.0   \n",
      "14987        1.0                  0.0                      0.0   \n",
      "14988        1.0                  0.0                      0.0   \n",
      "14989        1.0                  0.0                      0.0   \n",
      "14990        1.0                  0.0                      0.0   \n",
      "14991        1.0                  0.0                      0.0   \n",
      "14992        1.0                  0.0                      0.0   \n",
      "14993        1.0                  0.0                      0.0   \n",
      "14994        1.0                  0.0                      0.0   \n",
      "14995        1.0                  0.0                      0.0   \n",
      "14996        1.0                  0.0                      0.0   \n",
      "14997        1.0                  0.0                      0.0   \n",
      "14998        1.0                  0.0                      0.0   \n",
      "\n",
      "       Department : HR  Department : Management  Department : Marketing  \\\n",
      "0                  0.0                      0.0                     0.0   \n",
      "1                  0.0                      0.0                     0.0   \n",
      "2                  0.0                      0.0                     0.0   \n",
      "3                  0.0                      0.0                     0.0   \n",
      "4                  0.0                      0.0                     0.0   \n",
      "5                  0.0                      0.0                     0.0   \n",
      "6                  0.0                      0.0                     0.0   \n",
      "7                  0.0                      0.0                     0.0   \n",
      "8                  0.0                      0.0                     0.0   \n",
      "9                  0.0                      0.0                     0.0   \n",
      "10                 0.0                      0.0                     0.0   \n",
      "11                 0.0                      0.0                     0.0   \n",
      "12                 0.0                      0.0                     0.0   \n",
      "13                 0.0                      0.0                     0.0   \n",
      "14                 0.0                      0.0                     0.0   \n",
      "15                 0.0                      0.0                     0.0   \n",
      "16                 0.0                      0.0                     0.0   \n",
      "17                 0.0                      0.0                     0.0   \n",
      "18                 0.0                      0.0                     0.0   \n",
      "19                 0.0                      0.0                     0.0   \n",
      "20                 0.0                      0.0                     0.0   \n",
      "21                 0.0                      0.0                     0.0   \n",
      "22                 0.0                      0.0                     0.0   \n",
      "23                 0.0                      0.0                     0.0   \n",
      "24                 0.0                      0.0                     0.0   \n",
      "25                 0.0                      0.0                     0.0   \n",
      "26                 0.0                      0.0                     0.0   \n",
      "27                 0.0                      0.0                     0.0   \n",
      "28                 0.0                      0.0                     0.0   \n",
      "29                 0.0                      0.0                     0.0   \n",
      "...                ...                      ...                     ...   \n",
      "14969              0.0                      0.0                     0.0   \n",
      "14970              0.0                      0.0                     0.0   \n",
      "14971              0.0                      0.0                     0.0   \n",
      "14972              0.0                      0.0                     0.0   \n",
      "14973              0.0                      0.0                     0.0   \n",
      "14974              0.0                      0.0                     0.0   \n",
      "14975              1.0                      0.0                     0.0   \n",
      "14976              1.0                      0.0                     0.0   \n",
      "14977              1.0                      0.0                     0.0   \n",
      "14978              1.0                      0.0                     0.0   \n",
      "14979              0.0                      0.0                     0.0   \n",
      "14980              0.0                      0.0                     0.0   \n",
      "14981              0.0                      0.0                     0.0   \n",
      "14982              0.0                      0.0                     0.0   \n",
      "14983              0.0                      0.0                     0.0   \n",
      "14984              0.0                      0.0                     0.0   \n",
      "14985              0.0                      0.0                     0.0   \n",
      "14986              0.0                      0.0                     0.0   \n",
      "14987              0.0                      0.0                     0.0   \n",
      "14988              0.0                      0.0                     0.0   \n",
      "14989              0.0                      0.0                     0.0   \n",
      "14990              0.0                      0.0                     0.0   \n",
      "14991              0.0                      0.0                     0.0   \n",
      "14992              0.0                      0.0                     0.0   \n",
      "14993              0.0                      0.0                     0.0   \n",
      "14994              0.0                      0.0                     0.0   \n",
      "14995              0.0                      0.0                     0.0   \n",
      "14996              0.0                      0.0                     0.0   \n",
      "14997              0.0                      0.0                     0.0   \n",
      "14998              0.0                      0.0                     0.0   \n",
      "\n",
      "       Department : product_management  Department : Sales  \\\n",
      "0                                  0.0                 1.0   \n",
      "1                                  0.0                 1.0   \n",
      "2                                  0.0                 1.0   \n",
      "3                                  0.0                 1.0   \n",
      "4                                  0.0                 1.0   \n",
      "5                                  0.0                 1.0   \n",
      "6                                  0.0                 1.0   \n",
      "7                                  0.0                 1.0   \n",
      "8                                  0.0                 1.0   \n",
      "9                                  0.0                 1.0   \n",
      "10                                 0.0                 1.0   \n",
      "11                                 0.0                 1.0   \n",
      "12                                 0.0                 1.0   \n",
      "13                                 0.0                 1.0   \n",
      "14                                 0.0                 1.0   \n",
      "15                                 0.0                 1.0   \n",
      "16                                 0.0                 1.0   \n",
      "17                                 0.0                 1.0   \n",
      "18                                 0.0                 1.0   \n",
      "19                                 0.0                 1.0   \n",
      "20                                 0.0                 1.0   \n",
      "21                                 0.0                 1.0   \n",
      "22                                 0.0                 1.0   \n",
      "23                                 0.0                 1.0   \n",
      "24                                 0.0                 1.0   \n",
      "25                                 0.0                 1.0   \n",
      "26                                 0.0                 1.0   \n",
      "27                                 0.0                 1.0   \n",
      "28                                 0.0                 0.0   \n",
      "29                                 0.0                 0.0   \n",
      "...                                ...                 ...   \n",
      "14969                              0.0                 1.0   \n",
      "14970                              0.0                 1.0   \n",
      "14971                              0.0                 1.0   \n",
      "14972                              0.0                 0.0   \n",
      "14973                              0.0                 0.0   \n",
      "14974                              0.0                 0.0   \n",
      "14975                              0.0                 0.0   \n",
      "14976                              0.0                 0.0   \n",
      "14977                              0.0                 0.0   \n",
      "14978                              0.0                 0.0   \n",
      "14979                              0.0                 0.0   \n",
      "14980                              0.0                 0.0   \n",
      "14981                              0.0                 0.0   \n",
      "14982                              0.0                 0.0   \n",
      "14983                              0.0                 0.0   \n",
      "14984                              0.0                 0.0   \n",
      "14985                              0.0                 0.0   \n",
      "14986                              0.0                 0.0   \n",
      "14987                              0.0                 0.0   \n",
      "14988                              0.0                 0.0   \n",
      "14989                              0.0                 0.0   \n",
      "14990                              0.0                 0.0   \n",
      "14991                              0.0                 0.0   \n",
      "14992                              0.0                 0.0   \n",
      "14993                              0.0                 0.0   \n",
      "14994                              0.0                 0.0   \n",
      "14995                              0.0                 0.0   \n",
      "14996                              0.0                 0.0   \n",
      "14997                              0.0                 0.0   \n",
      "14998                              0.0                 0.0   \n",
      "\n",
      "       Department : Support  Department : Technical  Salary : Low  \\\n",
      "0                       0.0                     0.0           1.0   \n",
      "1                       0.0                     0.0           0.0   \n",
      "2                       0.0                     0.0           0.0   \n",
      "3                       0.0                     0.0           1.0   \n",
      "4                       0.0                     0.0           1.0   \n",
      "5                       0.0                     0.0           1.0   \n",
      "6                       0.0                     0.0           1.0   \n",
      "7                       0.0                     0.0           1.0   \n",
      "8                       0.0                     0.0           1.0   \n",
      "9                       0.0                     0.0           1.0   \n",
      "10                      0.0                     0.0           1.0   \n",
      "11                      0.0                     0.0           1.0   \n",
      "12                      0.0                     0.0           1.0   \n",
      "13                      0.0                     0.0           1.0   \n",
      "14                      0.0                     0.0           1.0   \n",
      "15                      0.0                     0.0           1.0   \n",
      "16                      0.0                     0.0           1.0   \n",
      "17                      0.0                     0.0           1.0   \n",
      "18                      0.0                     0.0           1.0   \n",
      "19                      0.0                     0.0           1.0   \n",
      "20                      0.0                     0.0           1.0   \n",
      "21                      0.0                     0.0           1.0   \n",
      "22                      0.0                     0.0           1.0   \n",
      "23                      0.0                     0.0           1.0   \n",
      "24                      0.0                     0.0           1.0   \n",
      "25                      0.0                     0.0           1.0   \n",
      "26                      0.0                     0.0           1.0   \n",
      "27                      0.0                     0.0           1.0   \n",
      "28                      0.0                     0.0           1.0   \n",
      "29                      0.0                     0.0           1.0   \n",
      "...                     ...                     ...           ...   \n",
      "14969                   0.0                     0.0           0.0   \n",
      "14970                   0.0                     0.0           0.0   \n",
      "14971                   0.0                     0.0           0.0   \n",
      "14972                   0.0                     0.0           0.0   \n",
      "14973                   0.0                     0.0           0.0   \n",
      "14974                   0.0                     0.0           0.0   \n",
      "14975                   0.0                     0.0           0.0   \n",
      "14976                   0.0                     0.0           0.0   \n",
      "14977                   0.0                     0.0           0.0   \n",
      "14978                   0.0                     0.0           0.0   \n",
      "14979                   0.0                     1.0           0.0   \n",
      "14980                   0.0                     1.0           0.0   \n",
      "14981                   0.0                     1.0           1.0   \n",
      "14982                   0.0                     1.0           0.0   \n",
      "14983                   0.0                     1.0           0.0   \n",
      "14984                   0.0                     1.0           0.0   \n",
      "14985                   0.0                     1.0           0.0   \n",
      "14986                   0.0                     1.0           1.0   \n",
      "14987                   0.0                     1.0           1.0   \n",
      "14988                   0.0                     1.0           1.0   \n",
      "14989                   0.0                     1.0           1.0   \n",
      "14990                   1.0                     0.0           1.0   \n",
      "14991                   1.0                     0.0           1.0   \n",
      "14992                   1.0                     0.0           1.0   \n",
      "14993                   1.0                     0.0           1.0   \n",
      "14994                   1.0                     0.0           1.0   \n",
      "14995                   1.0                     0.0           1.0   \n",
      "14996                   1.0                     0.0           1.0   \n",
      "14997                   1.0                     0.0           1.0   \n",
      "14998                   1.0                     0.0           1.0   \n",
      "\n",
      "       Salary : Medium  satisfaction_level  last_evaluation  number_project  \\\n",
      "0                  0.0                0.38             0.53             2.0   \n",
      "1                  1.0                0.80             0.86             5.0   \n",
      "2                  1.0                0.11             0.88             7.0   \n",
      "3                  0.0                0.72             0.87             5.0   \n",
      "4                  0.0                0.37             0.52             2.0   \n",
      "5                  0.0                0.41             0.50             2.0   \n",
      "6                  0.0                0.10             0.77             6.0   \n",
      "7                  0.0                0.92             0.85             5.0   \n",
      "8                  0.0                0.89             1.00             5.0   \n",
      "9                  0.0                0.42             0.53             2.0   \n",
      "10                 0.0                0.45             0.54             2.0   \n",
      "11                 0.0                0.11             0.81             6.0   \n",
      "12                 0.0                0.84             0.92             4.0   \n",
      "13                 0.0                0.41             0.55             2.0   \n",
      "14                 0.0                0.36             0.56             2.0   \n",
      "15                 0.0                0.38             0.54             2.0   \n",
      "16                 0.0                0.45             0.47             2.0   \n",
      "17                 0.0                0.78             0.99             4.0   \n",
      "18                 0.0                0.45             0.51             2.0   \n",
      "19                 0.0                0.76             0.89             5.0   \n",
      "20                 0.0                0.11             0.83             6.0   \n",
      "21                 0.0                0.38             0.55             2.0   \n",
      "22                 0.0                0.09             0.95             6.0   \n",
      "23                 0.0                0.46             0.57             2.0   \n",
      "24                 0.0                0.40             0.53             2.0   \n",
      "25                 0.0                0.89             0.92             5.0   \n",
      "26                 0.0                0.82             0.87             4.0   \n",
      "27                 0.0                0.40             0.49             2.0   \n",
      "28                 0.0                0.41             0.46             2.0   \n",
      "29                 0.0                0.38             0.50             2.0   \n",
      "...                ...                 ...              ...             ...   \n",
      "14969              1.0                0.43             0.46             2.0   \n",
      "14970              1.0                0.78             0.93             4.0   \n",
      "14971              1.0                0.39             0.45             2.0   \n",
      "14972              1.0                0.11             0.97             6.0   \n",
      "14973              1.0                0.36             0.52             2.0   \n",
      "14974              1.0                0.36             0.54             2.0   \n",
      "14975              1.0                0.10             0.79             7.0   \n",
      "14976              1.0                0.40             0.47             2.0   \n",
      "14977              1.0                0.81             0.85             4.0   \n",
      "14978              1.0                0.40             0.47             2.0   \n",
      "14979              1.0                0.09             0.93             6.0   \n",
      "14980              0.0                0.76             0.89             5.0   \n",
      "14981              0.0                0.73             0.93             5.0   \n",
      "14982              1.0                0.38             0.49             2.0   \n",
      "14983              1.0                0.72             0.84             5.0   \n",
      "14984              1.0                0.40             0.56             2.0   \n",
      "14985              1.0                0.91             0.99             5.0   \n",
      "14986              0.0                0.85             0.85             4.0   \n",
      "14987              0.0                0.90             0.70             5.0   \n",
      "14988              0.0                0.46             0.55             2.0   \n",
      "14989              0.0                0.43             0.57             2.0   \n",
      "14990              0.0                0.89             0.88             5.0   \n",
      "14991              0.0                0.09             0.81             6.0   \n",
      "14992              0.0                0.40             0.48             2.0   \n",
      "14993              0.0                0.76             0.83             6.0   \n",
      "14994              0.0                0.40             0.57             2.0   \n",
      "14995              0.0                0.37             0.48             2.0   \n",
      "14996              0.0                0.37             0.53             2.0   \n",
      "14997              0.0                0.11             0.96             6.0   \n",
      "14998              0.0                0.37             0.52             2.0   \n",
      "\n",
      "       average_montly_hours  time_spend_company  Work_accident  \\\n",
      "0                     157.0                 3.0            0.0   \n",
      "1                     262.0                 6.0            0.0   \n",
      "2                     272.0                 4.0            0.0   \n",
      "3                     223.0                 5.0            0.0   \n",
      "4                     159.0                 3.0            0.0   \n",
      "5                     153.0                 3.0            0.0   \n",
      "6                     247.0                 4.0            0.0   \n",
      "7                     259.0                 5.0            0.0   \n",
      "8                     224.0                 5.0            0.0   \n",
      "9                     142.0                 3.0            0.0   \n",
      "10                    135.0                 3.0            0.0   \n",
      "11                    305.0                 4.0            0.0   \n",
      "12                    234.0                 5.0            0.0   \n",
      "13                    148.0                 3.0            0.0   \n",
      "14                    137.0                 3.0            0.0   \n",
      "15                    143.0                 3.0            0.0   \n",
      "16                    160.0                 3.0            0.0   \n",
      "17                    255.0                 6.0            0.0   \n",
      "18                    160.0                 3.0            1.0   \n",
      "19                    262.0                 5.0            0.0   \n",
      "20                    282.0                 4.0            0.0   \n",
      "21                    147.0                 3.0            0.0   \n",
      "22                    304.0                 4.0            0.0   \n",
      "23                    139.0                 3.0            0.0   \n",
      "24                    158.0                 3.0            0.0   \n",
      "25                    242.0                 5.0            0.0   \n",
      "26                    239.0                 5.0            0.0   \n",
      "27                    135.0                 3.0            0.0   \n",
      "28                    128.0                 3.0            0.0   \n",
      "29                    132.0                 3.0            0.0   \n",
      "...                     ...                 ...            ...   \n",
      "14969                 157.0                 3.0            0.0   \n",
      "14970                 225.0                 5.0            0.0   \n",
      "14971                 140.0                 3.0            0.0   \n",
      "14972                 310.0                 4.0            0.0   \n",
      "14973                 143.0                 3.0            0.0   \n",
      "14974                 153.0                 3.0            0.0   \n",
      "14975                 310.0                 4.0            0.0   \n",
      "14976                 136.0                 3.0            0.0   \n",
      "14977                 251.0                 6.0            0.0   \n",
      "14978                 144.0                 3.0            0.0   \n",
      "14979                 296.0                 4.0            0.0   \n",
      "14980                 238.0                 5.0            0.0   \n",
      "14981                 162.0                 4.0            0.0   \n",
      "14982                 137.0                 3.0            0.0   \n",
      "14983                 257.0                 5.0            0.0   \n",
      "14984                 148.0                 3.0            0.0   \n",
      "14985                 254.0                 5.0            0.0   \n",
      "14986                 247.0                 6.0            0.0   \n",
      "14987                 206.0                 4.0            0.0   \n",
      "14988                 145.0                 3.0            0.0   \n",
      "14989                 159.0                 3.0            1.0   \n",
      "14990                 228.0                 5.0            1.0   \n",
      "14991                 257.0                 4.0            0.0   \n",
      "14992                 155.0                 3.0            0.0   \n",
      "14993                 293.0                 6.0            0.0   \n",
      "14994                 151.0                 3.0            0.0   \n",
      "14995                 160.0                 3.0            0.0   \n",
      "14996                 143.0                 3.0            0.0   \n",
      "14997                 280.0                 4.0            0.0   \n",
      "14998                 158.0                 3.0            0.0   \n",
      "\n",
      "       promotion_last_5years  \n",
      "0                        0.0  \n",
      "1                        0.0  \n",
      "2                        0.0  \n",
      "3                        0.0  \n",
      "4                        0.0  \n",
      "5                        0.0  \n",
      "6                        0.0  \n",
      "7                        0.0  \n",
      "8                        0.0  \n",
      "9                        0.0  \n",
      "10                       0.0  \n",
      "11                       0.0  \n",
      "12                       0.0  \n",
      "13                       0.0  \n",
      "14                       0.0  \n",
      "15                       0.0  \n",
      "16                       0.0  \n",
      "17                       0.0  \n",
      "18                       1.0  \n",
      "19                       0.0  \n",
      "20                       0.0  \n",
      "21                       0.0  \n",
      "22                       0.0  \n",
      "23                       0.0  \n",
      "24                       0.0  \n",
      "25                       0.0  \n",
      "26                       0.0  \n",
      "27                       0.0  \n",
      "28                       0.0  \n",
      "29                       0.0  \n",
      "...                      ...  \n",
      "14969                    0.0  \n",
      "14970                    0.0  \n",
      "14971                    0.0  \n",
      "14972                    0.0  \n",
      "14973                    0.0  \n",
      "14974                    0.0  \n",
      "14975                    0.0  \n",
      "14976                    0.0  \n",
      "14977                    0.0  \n",
      "14978                    0.0  \n",
      "14979                    0.0  \n",
      "14980                    0.0  \n",
      "14981                    0.0  \n",
      "14982                    0.0  \n",
      "14983                    0.0  \n",
      "14984                    0.0  \n",
      "14985                    0.0  \n",
      "14986                    0.0  \n",
      "14987                    0.0  \n",
      "14988                    0.0  \n",
      "14989                    0.0  \n",
      "14990                    0.0  \n",
      "14991                    0.0  \n",
      "14992                    0.0  \n",
      "14993                    0.0  \n",
      "14994                    0.0  \n",
      "14995                    0.0  \n",
      "14996                    0.0  \n",
      "14997                    0.0  \n",
      "14998                    0.0  \n",
      "\n",
      "[14999 rows x 19 columns]\n"
     ]
    }
   ],
   "source": [
    "print(X)"
   ]
  },
  {
   "cell_type": "code",
   "execution_count": 18,
   "metadata": {},
   "outputs": [
    {
     "name": "stderr",
     "output_type": "stream",
     "text": [
      "/Users/xiangliu/miniconda3/lib/python3.7/site-packages/sklearn/linear_model/logistic.py:433: FutureWarning: Default solver will be changed to 'lbfgs' in 0.22. Specify a solver to silence this warning.\n",
      "  FutureWarning)\n"
     ]
    },
    {
     "data": {
      "text/html": [
       "<div>\n",
       "<style scoped>\n",
       "    .dataframe tbody tr th:only-of-type {\n",
       "        vertical-align: middle;\n",
       "    }\n",
       "\n",
       "    .dataframe tbody tr th {\n",
       "        vertical-align: top;\n",
       "    }\n",
       "\n",
       "    .dataframe thead th {\n",
       "        text-align: right;\n",
       "    }\n",
       "</style>\n",
       "<table border=\"1\" class=\"dataframe\">\n",
       "  <thead>\n",
       "    <tr style=\"text-align: right;\">\n",
       "      <th></th>\n",
       "      <th>0</th>\n",
       "      <th>1</th>\n",
       "    </tr>\n",
       "  </thead>\n",
       "  <tbody>\n",
       "    <tr>\n",
       "      <th>0</th>\n",
       "      <td>Intercept</td>\n",
       "      <td>[-0.6868217375039909]</td>\n",
       "    </tr>\n",
       "    <tr>\n",
       "      <th>1</th>\n",
       "      <td>Department : Random</td>\n",
       "      <td>[-0.48976296483354]</td>\n",
       "    </tr>\n",
       "    <tr>\n",
       "      <th>2</th>\n",
       "      <td>Department : Accounting</td>\n",
       "      <td>[0.0953925582238493]</td>\n",
       "    </tr>\n",
       "    <tr>\n",
       "      <th>3</th>\n",
       "      <td>Department : HR</td>\n",
       "      <td>[0.32867149592011496]</td>\n",
       "    </tr>\n",
       "    <tr>\n",
       "      <th>4</th>\n",
       "      <td>Department : Management</td>\n",
       "      <td>[-0.4010970141309813]</td>\n",
       "    </tr>\n",
       "    <tr>\n",
       "      <th>5</th>\n",
       "      <td>Department : Marketing</td>\n",
       "      <td>[0.08974406449725568]</td>\n",
       "    </tr>\n",
       "    <tr>\n",
       "      <th>6</th>\n",
       "      <td>Department : product_management</td>\n",
       "      <td>[-0.040952963291158016]</td>\n",
       "    </tr>\n",
       "    <tr>\n",
       "      <th>7</th>\n",
       "      <td>Department : Sales</td>\n",
       "      <td>[0.07497090952330053]</td>\n",
       "    </tr>\n",
       "    <tr>\n",
       "      <th>8</th>\n",
       "      <td>Department : Support</td>\n",
       "      <td>[0.16836018458961563]</td>\n",
       "    </tr>\n",
       "    <tr>\n",
       "      <th>9</th>\n",
       "      <td>Department : Technical</td>\n",
       "      <td>[0.17302139333033595]</td>\n",
       "    </tr>\n",
       "    <tr>\n",
       "      <th>10</th>\n",
       "      <td>Salary : Low</td>\n",
       "      <td>[1.7821033960159058]</td>\n",
       "    </tr>\n",
       "    <tr>\n",
       "      <th>11</th>\n",
       "      <td>Salary : Medium</td>\n",
       "      <td>[1.2562565319776886]</td>\n",
       "    </tr>\n",
       "    <tr>\n",
       "      <th>12</th>\n",
       "      <td>satisfaction_level</td>\n",
       "      <td>[-4.128237312222989]</td>\n",
       "    </tr>\n",
       "    <tr>\n",
       "      <th>13</th>\n",
       "      <td>last_evaluation</td>\n",
       "      <td>[0.7331420097874474]</td>\n",
       "    </tr>\n",
       "    <tr>\n",
       "      <th>14</th>\n",
       "      <td>number_project</td>\n",
       "      <td>[-0.31413789109106804]</td>\n",
       "    </tr>\n",
       "    <tr>\n",
       "      <th>15</th>\n",
       "      <td>average_montly_hours</td>\n",
       "      <td>[0.00424471204532916]</td>\n",
       "    </tr>\n",
       "    <tr>\n",
       "      <th>16</th>\n",
       "      <td>time_spend_company</td>\n",
       "      <td>[0.260688405469229]</td>\n",
       "    </tr>\n",
       "    <tr>\n",
       "      <th>17</th>\n",
       "      <td>Work_accident</td>\n",
       "      <td>[-1.5230812159655978]</td>\n",
       "    </tr>\n",
       "    <tr>\n",
       "      <th>18</th>\n",
       "      <td>promotion_last_5years</td>\n",
       "      <td>[-1.0878429178979672]</td>\n",
       "    </tr>\n",
       "  </tbody>\n",
       "</table>\n",
       "</div>"
      ],
      "text/plain": [
       "                                  0                        1\n",
       "0                         Intercept    [-0.6868217375039909]\n",
       "1               Department : Random      [-0.48976296483354]\n",
       "2           Department : Accounting     [0.0953925582238493]\n",
       "3                   Department : HR    [0.32867149592011496]\n",
       "4           Department : Management    [-0.4010970141309813]\n",
       "5            Department : Marketing    [0.08974406449725568]\n",
       "6   Department : product_management  [-0.040952963291158016]\n",
       "7                Department : Sales    [0.07497090952330053]\n",
       "8              Department : Support    [0.16836018458961563]\n",
       "9            Department : Technical    [0.17302139333033595]\n",
       "10                     Salary : Low     [1.7821033960159058]\n",
       "11                  Salary : Medium     [1.2562565319776886]\n",
       "12               satisfaction_level     [-4.128237312222989]\n",
       "13                  last_evaluation     [0.7331420097874474]\n",
       "14                   number_project   [-0.31413789109106804]\n",
       "15             average_montly_hours    [0.00424471204532916]\n",
       "16               time_spend_company      [0.260688405469229]\n",
       "17                    Work_accident    [-1.5230812159655978]\n",
       "18            promotion_last_5years    [-1.0878429178979672]"
      ]
     },
     "execution_count": 18,
     "metadata": {},
     "output_type": "execute_result"
    }
   ],
   "source": [
    "#用X和y训练模型，然后输出X中每一项自变量对于y的影响 zip(a,b)可将a的每一个元素和b里对应位置的元素组成一对\n",
    "## 所有data拿来train\n",
    "model.fit(X,y)\n",
    "pd.DataFrame(list(zip(X.columns, np.transpose(model.coef_)))) ## DataFrame Camel-Case"
   ]
  },
  {
   "cell_type": "code",
   "execution_count": 19,
   "metadata": {},
   "outputs": [
    {
     "name": "stdout",
     "output_type": "stream",
     "text": [
      "0.793652910194013\n"
     ]
    },
    {
     "data": {
      "text/plain": [
       "array([[-0.68682174, -0.48976296,  0.09539256,  0.3286715 , -0.40109701,\n",
       "         0.08974406, -0.04095296,  0.07497091,  0.16836018,  0.17302139,\n",
       "         1.7821034 ,  1.25625653, -4.12823731,  0.73314201, -0.31413789,\n",
       "         0.00424471,  0.26068841, -1.52308122, -1.08784292]])"
      ]
     },
     "execution_count": 19,
     "metadata": {},
     "output_type": "execute_result"
    }
   ],
   "source": [
    "print(model.score(X,y))\n",
    "model.coef_"
   ]
  },
  {
   "cell_type": "code",
   "execution_count": 20,
   "metadata": {},
   "outputs": [
    {
     "name": "stdout",
     "output_type": "stream",
     "text": [
      "<class 'pandas.core.frame.DataFrame'>\n",
      "Int64Index: 14999 entries, 0 to 14998\n",
      "Data columns (total 19 columns):\n",
      "Intercept                          14999 non-null float64\n",
      "Department : Random                14999 non-null float64\n",
      "Department : Accounting            14999 non-null float64\n",
      "Department : HR                    14999 non-null float64\n",
      "Department : Management            14999 non-null float64\n",
      "Department : Marketing             14999 non-null float64\n",
      "Department : product_management    14999 non-null float64\n",
      "Department : Sales                 14999 non-null float64\n",
      "Department : Support               14999 non-null float64\n",
      "Department : Technical             14999 non-null float64\n",
      "Salary : Low                       14999 non-null float64\n",
      "Salary : Medium                    14999 non-null float64\n",
      "satisfaction_level                 14999 non-null float64\n",
      "last_evaluation                    14999 non-null float64\n",
      "number_project                     14999 non-null float64\n",
      "average_montly_hours               14999 non-null float64\n",
      "time_spend_company                 14999 non-null float64\n",
      "Work_accident                      14999 non-null float64\n",
      "promotion_last_5years              14999 non-null float64\n",
      "dtypes: float64(19)\n",
      "memory usage: 2.3 MB\n"
     ]
    }
   ],
   "source": [
    "X.info()"
   ]
  },
  {
   "cell_type": "code",
   "execution_count": 21,
   "metadata": {},
   "outputs": [
    {
     "data": {
      "text/plain": [
       "array([[0.91615561, 0.08384439]])"
      ]
     },
     "execution_count": 21,
     "metadata": {},
     "output_type": "execute_result"
    }
   ],
   "source": [
    "#预测这样一个人的离职概率： 一个高工资HR， 对公司满意度0.5, 上次评审0.7分， 做过4个项目， 每月平均工作160小时， 在公司呆了3年， 过去5年没有被晋升， 没有工伤\n",
    "model.predict_proba([[1,0,0,1,0,0,0,0,0,0,0,0,0.5,0.7,4,160,3.0,0,0]])"
   ]
  },
  {
   "cell_type": "code",
   "execution_count": 22,
   "metadata": {},
   "outputs": [
    {
     "data": {
      "text/plain": [
       "0.793652910194013"
      ]
     },
     "execution_count": 22,
     "metadata": {},
     "output_type": "execute_result"
    }
   ],
   "source": [
    "##Accuracy formula\n",
    "model.predict_proba(X)\n",
    "pred= model.predict(X)\n",
    "1-(abs(pred-y)).sum()/len(y)"
   ]
  },
  {
   "cell_type": "code",
   "execution_count": 23,
   "metadata": {},
   "outputs": [
    {
     "name": "stderr",
     "output_type": "stream",
     "text": [
      "/Users/xiangliu/miniconda3/lib/python3.7/site-packages/sklearn/linear_model/logistic.py:433: FutureWarning: Default solver will be changed to 'lbfgs' in 0.22. Specify a solver to silence this warning.\n",
      "  FutureWarning)\n"
     ]
    },
    {
     "data": {
      "text/plain": [
       "LogisticRegression(C=1.0, class_weight=None, dual=False, fit_intercept=True,\n",
       "          intercept_scaling=1, max_iter=100, multi_class='warn',\n",
       "          n_jobs=None, penalty='l2', random_state=None, solver='warn',\n",
       "          tol=0.0001, verbose=0, warm_start=False)"
      ]
     },
     "execution_count": 23,
     "metadata": {},
     "output_type": "execute_result"
    }
   ],
   "source": [
    "#生成7:3的训练测试集\n",
    "Xtrain, Xtest, ytrain,ytest = train_test_split(X, y, test_size=0.2, random_state=0)\n",
    "model2 = LogisticRegression()\n",
    "model2.fit(Xtrain,ytrain)"
   ]
  },
  {
   "cell_type": "code",
   "execution_count": 24,
   "metadata": {},
   "outputs": [
    {
     "name": "stderr",
     "output_type": "stream",
     "text": [
      "/Users/xiangliu/miniconda3/lib/python3.7/site-packages/sklearn/linear_model/logistic.py:433: FutureWarning: Default solver will be changed to 'lbfgs' in 0.22. Specify a solver to silence this warning.\n",
      "  FutureWarning)\n"
     ]
    },
    {
     "data": {
      "text/plain": [
       "0.787"
      ]
     },
     "execution_count": 24,
     "metadata": {},
     "output_type": "execute_result"
    }
   ],
   "source": [
    "## model2 accuracy score looks much better\n",
    "model2 = LogisticRegression(C=10000)\n",
    "model2.fit(Xtrain, ytrain)\n",
    "pred = model2.predict(Xtest)\n",
    "metrics.accuracy_score(ytest, pred)"
   ]
  },
  {
   "cell_type": "code",
   "execution_count": 25,
   "metadata": {},
   "outputs": [
    {
     "data": {
      "text/plain": [
       "array([[2133,  166],\n",
       "       [ 473,  228]])"
      ]
     },
     "execution_count": 25,
     "metadata": {},
     "output_type": "execute_result"
    }
   ],
   "source": [
    "metrics.confusion_matrix(ytest, pred)"
   ]
  },
  {
   "cell_type": "code",
   "execution_count": 26,
   "metadata": {},
   "outputs": [
    {
     "name": "stdout",
     "output_type": "stream",
     "text": [
      "              precision    recall  f1-score   support\n",
      "\n",
      "         0.0       0.82      0.93      0.87      2299\n",
      "         1.0       0.58      0.33      0.42       701\n",
      "\n",
      "   micro avg       0.79      0.79      0.79      3000\n",
      "   macro avg       0.70      0.63      0.64      3000\n",
      "weighted avg       0.76      0.79      0.76      3000\n",
      "\n"
     ]
    }
   ],
   "source": [
    "## print final report\n",
    "print(metrics.classification_report(ytest, pred))"
   ]
  },
  {
   "cell_type": "code",
   "execution_count": 27,
   "metadata": {},
   "outputs": [
    {
     "name": "stderr",
     "output_type": "stream",
     "text": [
      "/Users/xiangliu/miniconda3/lib/python3.7/site-packages/sklearn/linear_model/logistic.py:433: FutureWarning: Default solver will be changed to 'lbfgs' in 0.22. Specify a solver to silence this warning.\n",
      "  FutureWarning)\n",
      "/Users/xiangliu/miniconda3/lib/python3.7/site-packages/sklearn/linear_model/logistic.py:433: FutureWarning: Default solver will be changed to 'lbfgs' in 0.22. Specify a solver to silence this warning.\n",
      "  FutureWarning)\n",
      "/Users/xiangliu/miniconda3/lib/python3.7/site-packages/sklearn/linear_model/logistic.py:433: FutureWarning: Default solver will be changed to 'lbfgs' in 0.22. Specify a solver to silence this warning.\n",
      "  FutureWarning)\n",
      "/Users/xiangliu/miniconda3/lib/python3.7/site-packages/sklearn/linear_model/logistic.py:433: FutureWarning: Default solver will be changed to 'lbfgs' in 0.22. Specify a solver to silence this warning.\n",
      "  FutureWarning)\n",
      "/Users/xiangliu/miniconda3/lib/python3.7/site-packages/sklearn/linear_model/logistic.py:433: FutureWarning: Default solver will be changed to 'lbfgs' in 0.22. Specify a solver to silence this warning.\n",
      "  FutureWarning)\n",
      "/Users/xiangliu/miniconda3/lib/python3.7/site-packages/sklearn/linear_model/logistic.py:433: FutureWarning: Default solver will be changed to 'lbfgs' in 0.22. Specify a solver to silence this warning.\n",
      "  FutureWarning)\n",
      "/Users/xiangliu/miniconda3/lib/python3.7/site-packages/sklearn/linear_model/logistic.py:433: FutureWarning: Default solver will be changed to 'lbfgs' in 0.22. Specify a solver to silence this warning.\n",
      "  FutureWarning)\n",
      "/Users/xiangliu/miniconda3/lib/python3.7/site-packages/sklearn/linear_model/logistic.py:433: FutureWarning: Default solver will be changed to 'lbfgs' in 0.22. Specify a solver to silence this warning.\n",
      "  FutureWarning)\n",
      "/Users/xiangliu/miniconda3/lib/python3.7/site-packages/sklearn/linear_model/logistic.py:433: FutureWarning: Default solver will be changed to 'lbfgs' in 0.22. Specify a solver to silence this warning.\n",
      "  FutureWarning)\n",
      "/Users/xiangliu/miniconda3/lib/python3.7/site-packages/sklearn/linear_model/logistic.py:433: FutureWarning: Default solver will be changed to 'lbfgs' in 0.22. Specify a solver to silence this warning.\n",
      "  FutureWarning)\n",
      "/Users/xiangliu/miniconda3/lib/python3.7/site-packages/sklearn/linear_model/logistic.py:433: FutureWarning: Default solver will be changed to 'lbfgs' in 0.22. Specify a solver to silence this warning.\n",
      "  FutureWarning)\n",
      "/Users/xiangliu/miniconda3/lib/python3.7/site-packages/sklearn/linear_model/logistic.py:433: FutureWarning: Default solver will be changed to 'lbfgs' in 0.22. Specify a solver to silence this warning.\n",
      "  FutureWarning)\n",
      "/Users/xiangliu/miniconda3/lib/python3.7/site-packages/sklearn/linear_model/logistic.py:433: FutureWarning: Default solver will be changed to 'lbfgs' in 0.22. Specify a solver to silence this warning.\n",
      "  FutureWarning)\n",
      "/Users/xiangliu/miniconda3/lib/python3.7/site-packages/sklearn/linear_model/logistic.py:433: FutureWarning: Default solver will be changed to 'lbfgs' in 0.22. Specify a solver to silence this warning.\n",
      "  FutureWarning)\n",
      "/Users/xiangliu/miniconda3/lib/python3.7/site-packages/sklearn/linear_model/logistic.py:433: FutureWarning: Default solver will be changed to 'lbfgs' in 0.22. Specify a solver to silence this warning.\n",
      "  FutureWarning)\n",
      "/Users/xiangliu/miniconda3/lib/python3.7/site-packages/sklearn/linear_model/logistic.py:433: FutureWarning: Default solver will be changed to 'lbfgs' in 0.22. Specify a solver to silence this warning.\n",
      "  FutureWarning)\n",
      "/Users/xiangliu/miniconda3/lib/python3.7/site-packages/sklearn/linear_model/logistic.py:433: FutureWarning: Default solver will be changed to 'lbfgs' in 0.22. Specify a solver to silence this warning.\n",
      "  FutureWarning)\n",
      "/Users/xiangliu/miniconda3/lib/python3.7/site-packages/sklearn/linear_model/logistic.py:433: FutureWarning: Default solver will be changed to 'lbfgs' in 0.22. Specify a solver to silence this warning.\n",
      "  FutureWarning)\n",
      "/Users/xiangliu/miniconda3/lib/python3.7/site-packages/sklearn/linear_model/logistic.py:433: FutureWarning: Default solver will be changed to 'lbfgs' in 0.22. Specify a solver to silence this warning.\n",
      "  FutureWarning)\n",
      "/Users/xiangliu/miniconda3/lib/python3.7/site-packages/sklearn/linear_model/logistic.py:433: FutureWarning: Default solver will be changed to 'lbfgs' in 0.22. Specify a solver to silence this warning.\n",
      "  FutureWarning)\n"
     ]
    },
    {
     "name": "stdout",
     "output_type": "stream",
     "text": [
      "[0.80426099 0.81358189 0.79494008 0.78828229 0.79494008 0.79094541\n",
      " 0.78561917 0.78828229 0.79466667 0.808      0.81066667 0.79706275\n",
      " 0.79038718 0.79439252 0.7917223  0.79439252 0.73965287 0.77970628\n",
      " 0.76902537 0.72897196]\n"
     ]
    }
   ],
   "source": [
    "## Cross Validation * 10\n",
    "print(cross_val_score(LogisticRegression(), X,y, scoring='accuracy', cv=20))"
   ]
  },
  {
   "cell_type": "code",
   "execution_count": 28,
   "metadata": {},
   "outputs": [
    {
     "name": "stderr",
     "output_type": "stream",
     "text": [
      "/Users/xiangliu/miniconda3/lib/python3.7/site-packages/sklearn/linear_model/logistic.py:433: FutureWarning: Default solver will be changed to 'lbfgs' in 0.22. Specify a solver to silence this warning.\n",
      "  FutureWarning)\n",
      "/Users/xiangliu/miniconda3/lib/python3.7/site-packages/sklearn/linear_model/logistic.py:433: FutureWarning: Default solver will be changed to 'lbfgs' in 0.22. Specify a solver to silence this warning.\n",
      "  FutureWarning)\n",
      "/Users/xiangliu/miniconda3/lib/python3.7/site-packages/sklearn/linear_model/logistic.py:433: FutureWarning: Default solver will be changed to 'lbfgs' in 0.22. Specify a solver to silence this warning.\n",
      "  FutureWarning)\n",
      "/Users/xiangliu/miniconda3/lib/python3.7/site-packages/sklearn/linear_model/logistic.py:433: FutureWarning: Default solver will be changed to 'lbfgs' in 0.22. Specify a solver to silence this warning.\n",
      "  FutureWarning)\n",
      "/Users/xiangliu/miniconda3/lib/python3.7/site-packages/sklearn/linear_model/logistic.py:433: FutureWarning: Default solver will be changed to 'lbfgs' in 0.22. Specify a solver to silence this warning.\n",
      "  FutureWarning)\n",
      "/Users/xiangliu/miniconda3/lib/python3.7/site-packages/sklearn/linear_model/logistic.py:433: FutureWarning: Default solver will be changed to 'lbfgs' in 0.22. Specify a solver to silence this warning.\n",
      "  FutureWarning)\n",
      "/Users/xiangliu/miniconda3/lib/python3.7/site-packages/sklearn/linear_model/logistic.py:433: FutureWarning: Default solver will be changed to 'lbfgs' in 0.22. Specify a solver to silence this warning.\n",
      "  FutureWarning)\n",
      "/Users/xiangliu/miniconda3/lib/python3.7/site-packages/sklearn/linear_model/logistic.py:433: FutureWarning: Default solver will be changed to 'lbfgs' in 0.22. Specify a solver to silence this warning.\n",
      "  FutureWarning)\n",
      "/Users/xiangliu/miniconda3/lib/python3.7/site-packages/sklearn/linear_model/logistic.py:433: FutureWarning: Default solver will be changed to 'lbfgs' in 0.22. Specify a solver to silence this warning.\n",
      "  FutureWarning)\n",
      "/Users/xiangliu/miniconda3/lib/python3.7/site-packages/sklearn/linear_model/logistic.py:433: FutureWarning: Default solver will be changed to 'lbfgs' in 0.22. Specify a solver to silence this warning.\n",
      "  FutureWarning)\n",
      "/Users/xiangliu/miniconda3/lib/python3.7/site-packages/sklearn/linear_model/logistic.py:433: FutureWarning: Default solver will be changed to 'lbfgs' in 0.22. Specify a solver to silence this warning.\n",
      "  FutureWarning)\n",
      "/Users/xiangliu/miniconda3/lib/python3.7/site-packages/sklearn/linear_model/logistic.py:433: FutureWarning: Default solver will be changed to 'lbfgs' in 0.22. Specify a solver to silence this warning.\n",
      "  FutureWarning)\n",
      "/Users/xiangliu/miniconda3/lib/python3.7/site-packages/sklearn/linear_model/logistic.py:433: FutureWarning: Default solver will be changed to 'lbfgs' in 0.22. Specify a solver to silence this warning.\n",
      "  FutureWarning)\n",
      "/Users/xiangliu/miniconda3/lib/python3.7/site-packages/sklearn/linear_model/logistic.py:433: FutureWarning: Default solver will be changed to 'lbfgs' in 0.22. Specify a solver to silence this warning.\n",
      "  FutureWarning)\n",
      "/Users/xiangliu/miniconda3/lib/python3.7/site-packages/sklearn/linear_model/logistic.py:433: FutureWarning: Default solver will be changed to 'lbfgs' in 0.22. Specify a solver to silence this warning.\n",
      "  FutureWarning)\n",
      "/Users/xiangliu/miniconda3/lib/python3.7/site-packages/sklearn/linear_model/logistic.py:433: FutureWarning: Default solver will be changed to 'lbfgs' in 0.22. Specify a solver to silence this warning.\n",
      "  FutureWarning)\n",
      "/Users/xiangliu/miniconda3/lib/python3.7/site-packages/sklearn/linear_model/logistic.py:433: FutureWarning: Default solver will be changed to 'lbfgs' in 0.22. Specify a solver to silence this warning.\n",
      "  FutureWarning)\n",
      "/Users/xiangliu/miniconda3/lib/python3.7/site-packages/sklearn/linear_model/logistic.py:433: FutureWarning: Default solver will be changed to 'lbfgs' in 0.22. Specify a solver to silence this warning.\n",
      "  FutureWarning)\n",
      "/Users/xiangliu/miniconda3/lib/python3.7/site-packages/sklearn/linear_model/logistic.py:433: FutureWarning: Default solver will be changed to 'lbfgs' in 0.22. Specify a solver to silence this warning.\n",
      "  FutureWarning)\n"
     ]
    },
    {
     "name": "stdout",
     "output_type": "stream",
     "text": [
      "0.7877084749780295\n"
     ]
    },
    {
     "name": "stderr",
     "output_type": "stream",
     "text": [
      "/Users/xiangliu/miniconda3/lib/python3.7/site-packages/sklearn/linear_model/logistic.py:433: FutureWarning: Default solver will be changed to 'lbfgs' in 0.22. Specify a solver to silence this warning.\n",
      "  FutureWarning)\n"
     ]
    }
   ],
   "source": [
    "print(cross_val_score(LogisticRegression(), X,y, scoring='accuracy', cv=20).mean()) ## The score drops a little bit"
   ]
  },
  {
   "cell_type": "code",
   "execution_count": null,
   "metadata": {},
   "outputs": [],
   "source": []
  }
 ],
 "metadata": {
  "kernelspec": {
   "display_name": "Python 3",
   "language": "python",
   "name": "python3"
  },
  "language_info": {
   "codemirror_mode": {
    "name": "ipython",
    "version": 3
   },
   "file_extension": ".py",
   "mimetype": "text/x-python",
   "name": "python",
   "nbconvert_exporter": "python",
   "pygments_lexer": "ipython3",
   "version": "3.7.1"
  }
 },
 "nbformat": 4,
 "nbformat_minor": 2
}
